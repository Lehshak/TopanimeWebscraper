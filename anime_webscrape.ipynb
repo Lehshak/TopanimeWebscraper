{
 "cells": [
  {
   "cell_type": "markdown",
   "metadata": {
    "collapsed": true
   },
   "source": [
    "# Final Capstone Projects\n",
    "\n",
    "Please refer to the [**Final Capstone Projects**](http://nbviewer.jupyter.org/github/jmportilla/Complete-Python-Bootcamp/tree/master/Final%20Capstone%20Projects/) folder to get all the info on final capstone project ideas and possible solutions!"
   ]
  },
  {
   "cell_type": "code",
   "execution_count": 60,
   "metadata": {},
   "outputs": [],
   "source": [
    "#best anime list Checker or find top 100 anime"
   ]
  },
  {
   "cell_type": "code",
   "execution_count": 1,
   "metadata": {},
   "outputs": [],
   "source": [
    "import requests"
   ]
  },
  {
   "cell_type": "code",
   "execution_count": 2,
   "metadata": {},
   "outputs": [],
   "source": [
    "import bs4"
   ]
  },
  {
   "cell_type": "code",
   "execution_count": 3,
   "metadata": {},
   "outputs": [],
   "source": [
    "#https://myanimelist.net/topanime.php\n",
    "#https://myanimelist.net/topanime.php?limit=50\n",
    "limit = '?limit={}'"
   ]
  },
  {
   "cell_type": "code",
   "execution_count": 28,
   "metadata": {},
   "outputs": [],
   "source": [
    "best_anime = []"
   ]
  },
  {
   "cell_type": "code",
   "execution_count": null,
   "metadata": {},
   "outputs": [],
   "source": []
  },
  {
   "cell_type": "code",
   "execution_count": null,
   "metadata": {},
   "outputs": [],
   "source": []
  },
  {
   "cell_type": "code",
   "execution_count": null,
   "metadata": {},
   "outputs": [],
   "source": []
  },
  {
   "cell_type": "code",
   "execution_count": 27,
   "metadata": {},
   "outputs": [],
   "source": [
    "for x in range(4): #every digit on range gives 50 anime so you can set it lower or higher\n",
    "    if x == 0:\n",
    "        url = 'https://myanimelist.net/topanime.php'\n",
    "    else:\n",
    "        url = 'https://myanimelist.net/topanime.php&' + limit.format(x*50)\n",
    "        \n",
    "    res = requests.get(url)\n",
    "    soup = bs4.BeautifulSoup(res.text,'lxml')\n",
    "    list_anime = soup.select('.hoverinfo_trigger.fl-l.fs14.fw-b.anime_ranking_h3')\n",
    "        \n",
    "    for anime in list_anime:\n",
    "        best_anime.append(anime.text)"
   ]
  },
  {
   "cell_type": "code",
   "execution_count": 75,
   "metadata": {
    "scrolled": false
   },
   "outputs": [],
   "source": [
    "best_anime = []\n",
    "#hoverinfo_trigger fs14 fw-b"
   ]
  },
  {
   "cell_type": "code",
   "execution_count": 76,
   "metadata": {},
   "outputs": [],
   "source": [
    "limit = '?limit={}'"
   ]
  },
  {
   "cell_type": "code",
   "execution_count": 77,
   "metadata": {},
   "outputs": [],
   "source": [
    "for x in range(6): #every digit on range gives 50 anime so you can set it lower or higher\n",
    "    if x == 0:\n",
    "        url = 'https://myanimelist.net/topmanga.php'\n",
    "    else:\n",
    "        url = 'https://myanimelist.net/topmanga.php' + limit.format(x*50)\n",
    "        \n",
    "    res = requests.get(url)\n",
    "    soup = bs4.BeautifulSoup(res.text,'lxml')\n",
    "    list_anime = soup.select('.hoverinfo_trigger.fs14.fw-b')\n",
    "        \n",
    "    for anime in list_anime:\n",
    "        best_anime.append(anime.text)"
   ]
  },
  {
   "cell_type": "code",
   "execution_count": 78,
   "metadata": {},
   "outputs": [
    {
     "data": {
      "text/plain": [
       "['Berserk',\n",
       " 'JoJo no Kimyou na Bouken Part 7: Steel Ball Run',\n",
       " 'One Piece',\n",
       " 'Vagabond',\n",
       " 'Monster',\n",
       " 'Fullmetal Alchemist',\n",
       " 'Oyasumi Punpun',\n",
       " 'Grand Blue',\n",
       " 'Slam Dunk',\n",
       " 'Kingdom',\n",
       " 'Devil Survivor 2: Show Your Free Will',\n",
       " 'Monogatari Series: First Season',\n",
       " '20th Century Boys',\n",
       " 'Vinland Saga',\n",
       " 'Kaguya-sama wa Kokurasetai: Tensai-tachi no Renai Zunousen',\n",
       " 'Ashita no Joe',\n",
       " 'Haikyuu!!',\n",
       " 'Monogatari Series: Second Season',\n",
       " 'GTO',\n",
       " '3-gatsu no Lion',\n",
       " 'Youkoso Jitsuryoku Shijou Shugi no Kyoushitsu e: 2-nensei-hen',\n",
       " 'Houseki no Kuni',\n",
       " 'Solo Leveling',\n",
       " 'Yotsuba to!',\n",
       " 'Ookami to Koushinryou',\n",
       " 'Koe no Katachi',\n",
       " 'Yahari Ore no Seishun Love Comedy wa Machigatteiru.',\n",
       " 'Kaze no Tani no Nausicaä',\n",
       " 'Youkoso Jitsuryoku Shijou Shugi no Kyoushitsu e',\n",
       " 'Made in Abyss',\n",
       " 'Akatsuki no Yona',\n",
       " 'Monogatari Series: Final Season',\n",
       " 'Real',\n",
       " 'Uchuu Kyoudai',\n",
       " 'Utsuro no Hako to Zero no Maria',\n",
       " 'Jumyou wo Kaitotte Moratta. Ichinen ni Tsuki, Ichimanen de.',\n",
       " 'The Horizon',\n",
       " 'Re:Zero kara Hajimeru Isekai Seikatsu',\n",
       " 'Umineko no Naku Koro ni Chiru - Episode 8: Twilight of the Golden Witch',\n",
       " 'Mushishi',\n",
       " 'Natsume Yuujinchou',\n",
       " 'One Punch-Man',\n",
       " 'Yokohama Kaidashi Kikou',\n",
       " 'Death Note',\n",
       " 'Nana',\n",
       " 'Akira',\n",
       " '86',\n",
       " 'Tokyo卍Revengers',\n",
       " 'Hajime no Ippo',\n",
       " 'Hunter x Hunter',\n",
       " 'Beck',\n",
       " 'Shoujo Shuumatsu Ryokou',\n",
       " 'Overlord',\n",
       " 'ReLIFE',\n",
       " 'Shinyaku Toaru Majutsu no Index',\n",
       " 'Yagate Kimi ni Naru',\n",
       " 'Kozure Ookami',\n",
       " 'Dorohedoro',\n",
       " 'Zaregoto Series',\n",
       " 'Blue Period',\n",
       " 'Koten-bu Series',\n",
       " 'Kono Subarashii Sekai ni Shukufuku wo!',\n",
       " 'Chainsaw Man',\n",
       " 'Banana Fish',\n",
       " 'Mushoku Tensei: Isekai Ittara Honki Dasu',\n",
       " 'Kono Oto Tomare!',\n",
       " 'Violet Evergarden',\n",
       " 'Aria',\n",
       " 'Pluto',\n",
       " 'Ginga Eiyuu Densetsu',\n",
       " 'Watashitachi no Shiawase na Jikan',\n",
       " 'Shigatsu wa Kimi no Uso',\n",
       " 'Sousou no Frieren',\n",
       " 'Umarekawattemo Mata, Watashi to Kekkon shitekuremasu ka',\n",
       " 'Jibaku Shounen Hanako-kun',\n",
       " 'Shingeki no Kyojin',\n",
       " 'Pandora Hearts',\n",
       " 'Mob Psycho 100',\n",
       " 'Bastard',\n",
       " 'Here U Are',\n",
       " 'Rurouni Kenshin: Meiji Kenkaku Romantan',\n",
       " 'Skip Beat!',\n",
       " 'Song of the Long March',\n",
       " 'Shuumatsu Nani Shitemasu ka? Isogashii desu ka? Sukutte Moratte Ii desu ka?',\n",
       " 'Gintama',\n",
       " 'JoJo no Kimyou na Bouken Part 4: Diamond wa Kudakenai',\n",
       " 'Fate/Zero',\n",
       " 'One Outs',\n",
       " 'Spy x Family',\n",
       " 'Kino no Tabi: The Beautiful World',\n",
       " 'Kokou no Hito',\n",
       " 'Ohayou, Ibarahime',\n",
       " 'Kakukaku Shikajika',\n",
       " 'Sakamichi no Apollon',\n",
       " 'Baccano!',\n",
       " 'Suzumiya Haruhi Series',\n",
       " 'Who Made Me a Princess',\n",
       " 'Neon Genesis Evangelion',\n",
       " 'Otoyomegatari',\n",
       " 'Chikan Otoko',\n",
       " 'Shimanami Tasogare',\n",
       " 'Chihayafuru',\n",
       " 'Bakemonogatari',\n",
       " 'Seishun Buta Yarou Series',\n",
       " 'Honzuki no Gekokujou: Shisho ni Naru Tame ni wa Shudan wo Erandeiraremasen',\n",
       " 'Spirit Circle',\n",
       " 'No Game No Life',\n",
       " 'Tokyo Ghoul',\n",
       " 'Jujutsu Kaisen',\n",
       " 'Tower of God',\n",
       " 'Diamond no Ace Act II',\n",
       " 'Ouran Koukou Host Club',\n",
       " 'Kidou Senshi Gundam: The Origin',\n",
       " 'Hi no Tori (1967)',\n",
       " 'Kamisama Hajimemashita',\n",
       " 'Golden Kamuy',\n",
       " 'Umineko no Naku Koro ni Chiru - Episode 7: Requiem of the Golden Witch',\n",
       " 'Fruits Basket',\n",
       " 'Eyeshield 21',\n",
       " 'Umineko no Naku Koro ni Chiru - Episode 5: End of the Golden Witch',\n",
       " 'Gekkan Shoujo Nozaki-kun',\n",
       " 'Koe no Katachi',\n",
       " 'Hinamatsuri',\n",
       " 'Kimi no Suizou wo Tabetai',\n",
       " 'Kami nomi zo Shiru Sekai',\n",
       " 'Cross Game',\n",
       " 'The Breaker',\n",
       " 'blanc',\n",
       " 'Holyland',\n",
       " 'Fullmetal Alchemist',\n",
       " 'Kyou kara Ore wa!!',\n",
       " 'Horimiya',\n",
       " 'JoJo no Kimyou na Bouken Part 8: JoJolion',\n",
       " 'Ookami to Koushinryou',\n",
       " 'Umineko no Naku Koro ni',\n",
       " 'Akatsuki no Yona',\n",
       " 'Fumetsu no Anata e',\n",
       " 'Onanie Master Kurosawa',\n",
       " 'Barakamon',\n",
       " 'Noragami',\n",
       " 'Steins;Gate',\n",
       " 'Mata, Onaji Yume wo Miteita',\n",
       " 'Spirit Fingers',\n",
       " 'Tensei shitara Slime Datta Ken',\n",
       " 'No.6',\n",
       " 'Tongari Boushi no Atelier',\n",
       " 'Nodame Cantabile',\n",
       " 'Kuroshitsuji',\n",
       " 'Rainbow: Nisha Rokubou no Shichinin',\n",
       " 'Blade of the Immortal',\n",
       " 'Gunnm',\n",
       " 'Ping Pong',\n",
       " 'Bakuman.',\n",
       " 'Kumo desu ga, Nani ka?',\n",
       " 'Bungou Stray Dogs',\n",
       " 'The Breaker: New Waves',\n",
       " '21st Century Boys',\n",
       " 'Glass no Kamen',\n",
       " 'Juuni Kokuki',\n",
       " 'My Girl',\n",
       " 'Hoshi no Samidare',\n",
       " 'Youjo Senki',\n",
       " 'Kimi no Na wa.',\n",
       " 'Kusuriya no Hitorigoto',\n",
       " 'Blue Lock',\n",
       " 'Dragon Ball',\n",
       " 'Basara',\n",
       " 'Doraemon',\n",
       " 'Kaichou wa Maid-sama!',\n",
       " 'Tobaku Datenroku Kaiji: One Poker-hen',\n",
       " 'SQ: Begin W/Your Name!',\n",
       " 'Monogatari Series: Off Season',\n",
       " 'Kiseijuu',\n",
       " 'Shin Angyo Onshi',\n",
       " 'Tobaku Mokushiroku Kaiji',\n",
       " 'Toaru Majutsu no Index',\n",
       " 'Kimi wa Houkago Insomnia',\n",
       " 'Boku dake ga Inai Machi',\n",
       " 'Ballroom e Youkoso',\n",
       " 'Machida-kun no Sekai',\n",
       " 'Mahoutsukai no Yome',\n",
       " 'Tensei shitara Slime Datta Ken',\n",
       " 'Vanitas no Carte',\n",
       " 'xxxHOLiC',\n",
       " 'Hadashi no Gen',\n",
       " 'Billy Bat',\n",
       " 'Annarasumanara',\n",
       " 'Ookami Kodomo no Ame to Yuki',\n",
       " 'Umineko no Naku Koro ni Chiru - Episode 6: Dawn of the Golden Witch',\n",
       " 'Imawa no Kuni no Alice',\n",
       " 'Your Throne',\n",
       " 'Cardcaptor Sakura',\n",
       " 'SKET Dance',\n",
       " 'Lovely★Complex',\n",
       " 'Versailles no Bara',\n",
       " 'Kanata kara',\n",
       " 'Tobaku Hakairoku Kaiji',\n",
       " 'Durarara!!',\n",
       " 'Orange',\n",
       " 'Her Tale of Shim Chong',\n",
       " 'Piano no Mori',\n",
       " 'Full Metal Panic! Sigma',\n",
       " 'Umineko no Naku Koro ni - Episode 3: Banquet of the Golden Witch',\n",
       " 'The Legend of the Northern Blade',\n",
       " 'Innocent Rouge',\n",
       " 'Yuukoku no Moriarty',\n",
       " 'Canis Series',\n",
       " 'Sakamichi no Apollon: Bonus Track',\n",
       " 'Feng Shen Ji II',\n",
       " 'Feng Shen Ji III',\n",
       " 'Bungou Stray Dogs',\n",
       " 'Koko wa Ima kara Rinri desu.',\n",
       " 'Azumanga Daioh',\n",
       " 'Konjiki no Gash!!',\n",
       " 'Touch',\n",
       " 'Liar Game',\n",
       " 'Komatta Toki ni wa Hoshi ni Kike',\n",
       " 'Nichijou',\n",
       " 'Saikyou Densetsu Kurosawa',\n",
       " 'Dengeki Daisy',\n",
       " 'Hana to Akuma',\n",
       " 'Death Note Another Note: Los Angeles BB Renzoku Satsujin Jiken',\n",
       " 'Love So Life',\n",
       " 'Shadows House',\n",
       " 'Umineko no Naku Koro ni Chiru',\n",
       " 'Dungeon Meshi',\n",
       " 'Sora wa Akai Kawa no Hotori',\n",
       " 'Hellsing',\n",
       " 'Gakuen Alice',\n",
       " 'Mars',\n",
       " 'Planetes',\n",
       " 'Angel Densetsu',\n",
       " 'Gin no Saji',\n",
       " 'Beastars',\n",
       " 'Shuumatsu no Walküre',\n",
       " 'Sweet Home',\n",
       " 'Bungou Stray Dogs Beast',\n",
       " 'No.6',\n",
       " 'Sword Art Online: Progressive',\n",
       " 'Mushishi Tokubetsu-hen: Hihamukage',\n",
       " 'Kengan Ashura',\n",
       " 'Fate/strange Fake',\n",
       " 'Chichi to Hige-Gorilla to Watashi',\n",
       " 'Tsubasa: RESERVoir CHRoNiCLE',\n",
       " 'Blame!',\n",
       " 'Claymore',\n",
       " 'Tokyo Crazy Paradise',\n",
       " 'Daichouhen Doraemon',\n",
       " 'Yuru Camp△',\n",
       " 'Sasaki to Miyano',\n",
       " 'Wotaku ni Koi wa Muzukashii',\n",
       " 'Naruto Shinden Series',\n",
       " 'Something About Us',\n",
       " 'Hanazakari no Kimitachi e',\n",
       " 'Petshop of Horrors',\n",
       " 'Hachimitsu to Clover',\n",
       " 'Saiyuuki Gaiden',\n",
       " 'Higurashi no Naku Koro ni Kai: Meakashi-hen',\n",
       " 'Boogiepop Series',\n",
       " 'Black Jack',\n",
       " 'Gakuen Babysitters',\n",
       " 'Kodomo no Omocha',\n",
       " 'Hourou Musuko',\n",
       " \"Eden: It's an Endless World!\",\n",
       " 'Buddha',\n",
       " 'Higurashi no Naku Koro ni Kai: Tsumihoroboshi-hen',\n",
       " 'Higurashi no Naku Koro ni Kai: Minagoroshi-hen',\n",
       " 'Doukyuusei',\n",
       " \"King's Maker\",\n",
       " 'Omniscient Reader',\n",
       " 'Koimonogatari',\n",
       " 'Youjo Senki',\n",
       " 'Wind Breaker',\n",
       " 'Berserk: Shinen no Kami 2',\n",
       " 'Taishou Otome Otogibanashi',\n",
       " 'Kaichou wa Maid-sama!: Marriage',\n",
       " 'D.Gray-man',\n",
       " 'Homunculus',\n",
       " 'Silver Diamond',\n",
       " 'Cat Street',\n",
       " 'Toradora!',\n",
       " 'Magi',\n",
       " 'Takemitsuzamurai',\n",
       " 'Hai to Gensou no Grimgar',\n",
       " \"Can't See Can't Hear But Love\",\n",
       " 'Ansatsu Kyoushitsu',\n",
       " 'Kuragehime',\n",
       " 'Taiyou no Ie',\n",
       " 'Rokka no Yuusha',\n",
       " 'Boku no Hero Academia',\n",
       " 'Kimetsu no Yaiba',\n",
       " 'Komi-san wa, Comyushou desu.',\n",
       " 'Saint Seiya: The Lost Canvas - Meiou Shinwa',\n",
       " 'Detective Conan',\n",
       " 'Cheese in the Trap Season 4',\n",
       " 'Act-age',\n",
       " 'Tonikaku Kawaii',\n",
       " 'Gokushufudou',\n",
       " 'Boy Meets Maria',\n",
       " 'Weak Hero']"
      ]
     },
     "execution_count": 78,
     "metadata": {},
     "output_type": "execute_result"
    }
   ],
   "source": [
    "best_anime"
   ]
  },
  {
   "cell_type": "code",
   "execution_count": null,
   "metadata": {},
   "outputs": [],
   "source": []
  },
  {
   "cell_type": "code",
   "execution_count": null,
   "metadata": {},
   "outputs": [],
   "source": [
    "for x in range(6): #every digit on range gives 50 anime so you can set it lower or higher\n",
    "    if x == 0:\n",
    "        url = 'https://myanimelist.net/topmanga.php'\n",
    "    else:\n",
    "        url = 'https://myanimelist.net/topmanga.php' + limit.format(x*50)\n",
    "        \n",
    "    res = requests.get(url)\n",
    "    soup = bs4.BeautifulSoup(res.text,'lxml')\n",
    "    list_anime = soup.select('.hoverinfo_trigger.fs14.fw-b')\n",
    "        \n",
    "    for anime in list_anime:\n",
    "        best_anime.append(anime.text)"
   ]
  },
  {
   "cell_type": "code",
   "execution_count": 40,
   "metadata": {},
   "outputs": [],
   "source": [
    "res = requests.get('https://www.ranker.com/list/best-anime-intros-and-opening-themes/lisa-waugh')"
   ]
  },
  {
   "cell_type": "code",
   "execution_count": 41,
   "metadata": {},
   "outputs": [],
   "source": [
    "soup = bs4.BeautifulSoup(res.text,'lxml')"
   ]
  },
  {
   "cell_type": "code",
   "execution_count": 42,
   "metadata": {},
   "outputs": [],
   "source": [
    "song1 = soup.select('.gridItem_name__wCyGi.gridItem_nameLink__2hPOH')"
   ]
  },
  {
   "cell_type": "code",
   "execution_count": 44,
   "metadata": {},
   "outputs": [
    {
     "data": {
      "text/plain": [
       "'Tokyo Ghoul Opening 1 - Unravel'"
      ]
     },
     "execution_count": 44,
     "metadata": {},
     "output_type": "execute_result"
    }
   ],
   "source": [
    "song1[0].text"
   ]
  },
  {
   "cell_type": "code",
   "execution_count": 45,
   "metadata": {},
   "outputs": [
    {
     "data": {
      "text/plain": [
       "16"
      ]
     },
     "execution_count": 45,
     "metadata": {},
     "output_type": "execute_result"
    }
   ],
   "source": [
    "len(song1)"
   ]
  },
  {
   "cell_type": "code",
   "execution_count": 19,
   "metadata": {},
   "outputs": [],
   "source": [
    "song2 = soup.select('.gridItem_name__wCyGi')"
   ]
  },
  {
   "cell_type": "code",
   "execution_count": 21,
   "metadata": {},
   "outputs": [
    {
     "name": "stdout",
     "output_type": "stream",
     "text": [
      "Tokyo Ghoul Opening 1 - Unravel\n",
      "Attack on Titan Opening 1 - Guren No Yumiya\n",
      "Fullmetal Alchemist: Brotherhood Opening 1 - Again\n",
      "Neon Genesis Evangelion Opening 1 - A Cruel Angel’s Thesis\n",
      "Your Lie In April Opening 1 - Hikaru Nara\n",
      "Death Note Opening 1 - The World\n",
      "Hunter x Hunter (2011) Opening 1 - Departure!\n",
      "Cowboy Bebop Opening 1 - Tank!\n",
      "Code Geass Opening 1 - Colors\n",
      "No Game No Life Opening 1  - This Game\n",
      "Noragami Opening 2 - Kyouran Hey Kids!!\n",
      "Steins;Gate Opening 1 - Hacking to the Gate\n",
      "Pokémon Opening 1 - Gotta Catch 'Em All (English)\n",
      "Fairy Tail Opening 1 - Snow Fairy\n",
      "Soul Eater Opening 1 - Resonance\n",
      "Death Parade Opening 1 - Flyers\n"
     ]
    }
   ],
   "source": [
    "for song in song1:\n",
    "    print(song.text)"
   ]
  },
  {
   "cell_type": "code",
   "execution_count": 18,
   "metadata": {},
   "outputs": [
    {
     "name": "stdout",
     "output_type": "stream",
     "text": [
      "Tokyo Ghoul Opening 1 - Unravel\n",
      "Attack on Titan Opening 1 - Guren No Yumiya\n",
      "Fullmetal Alchemist: Brotherhood Opening 1 - Again\n",
      "Neon Genesis Evangelion Opening 1 - A Cruel Angel’s Thesis\n",
      "Your Lie In April Opening 1 - Hikaru Nara\n",
      "Naruto Shippuden Opening 3 - Blue Bird\n",
      "Naruto Shippuden Opening 16 - Silhouette\n",
      "Death Note Opening 1 - The World\n",
      "Hunter x Hunter (2011) Opening 1 - Departure!\n",
      "Cowboy Bebop Opening 1 - Tank!\n",
      "One-Punch Man Opening 1 - The Hero!! Set Fire to the Furious Fist\n",
      "Code Geass Opening 1 - Colors\n",
      "No Game No Life Opening 1  - This Game\n",
      "Attack on Titan Opening 3 - Shinzou wo Sasageyo\n",
      "Naruto Shippuden Opening 6 - Sign\n",
      "Noragami Opening 2 - Kyouran Hey Kids!!\n",
      "Sword Art Online Opening 1 - Crossing Field\n",
      "My Hero Academia Opening 1 - The Day \n",
      "Bakemonogatari Opening 4 - Renai Circulation\n",
      "Steins;Gate Opening 1 - Hacking to the Gate\n",
      "Pokémon Opening 1 - Gotta Catch 'Em All (English)\n",
      "Fairy Tail Opening 1 - Snow Fairy\n",
      "Soul Eater Opening 1 - Resonance\n",
      "Death Parade Opening 1 - Flyers\n",
      "Assassination Classroom Opening 4 - Bye Bye Yesterday\n"
     ]
    }
   ],
   "source": [
    "for song in song2:\n",
    "    print(song.text)"
   ]
  },
  {
   "cell_type": "code",
   "execution_count": 22,
   "metadata": {},
   "outputs": [],
   "source": [
    "#144\n",
    "#120\n"
   ]
  },
  {
   "cell_type": "code",
   "execution_count": 34,
   "metadata": {},
   "outputs": [],
   "source": [
    "song3 = soup.select(\".gridItem_postVoteCopy__3j7Jy gridItem_downVote__39WdL\")"
   ]
  },
  {
   "cell_type": "code",
   "execution_count": 35,
   "metadata": {},
   "outputs": [
    {
     "data": {
      "text/plain": [
       "0"
      ]
     },
     "execution_count": 35,
     "metadata": {},
     "output_type": "execute_result"
    }
   ],
   "source": [
    "len(song3)"
   ]
  },
  {
   "cell_type": "code",
   "execution_count": 36,
   "metadata": {},
   "outputs": [],
   "source": [
    "for song in song3:\n",
    "    print(song.text)"
   ]
  },
  {
   "cell_type": "code",
   "execution_count": null,
   "metadata": {},
   "outputs": [],
   "source": []
  },
  {
   "cell_type": "code",
   "execution_count": null,
   "metadata": {},
   "outputs": [],
   "source": []
  },
  {
   "cell_type": "code",
   "execution_count": null,
   "metadata": {},
   "outputs": [],
   "source": []
  },
  {
   "cell_type": "code",
   "execution_count": 46,
   "metadata": {},
   "outputs": [
    {
     "ename": "SyntaxError",
     "evalue": "EOL while scanning string literal (<ipython-input-46-9019b49ea1b4>, line 1)",
     "output_type": "error",
     "traceback": [
      "\u001b[1;36m  File \u001b[1;32m\"<ipython-input-46-9019b49ea1b4>\"\u001b[1;36m, line \u001b[1;32m1\u001b[0m\n\u001b[1;33m    best_openings : ['rascal does not dream of bunny girl senpai opening','rascal does not dream ending song','no game no life opening,'']\u001b[0m\n\u001b[1;37m                                                                                                                                          ^\u001b[0m\n\u001b[1;31mSyntaxError\u001b[0m\u001b[1;31m:\u001b[0m EOL while scanning string literal\n"
     ]
    }
   ],
   "source": [
    "best_openings : ['rascal does not dream of bunny girl senpai opening','rascal does not dream ending song','no game no life opening,'']"
   ]
  },
  {
   "cell_type": "code",
   "execution_count": 49,
   "metadata": {},
   "outputs": [],
   "source": [
    "best_opening = ['rascal does not dream opening','rascal does not dream ending song','sao underworld ending','the promised neverland opening','made in abyss tomorrow ost','made in abyss opening','made in abyss stingerhead nest ost','sao opening 1','sao opening 3','sao opening 5','sao opening 6','slime diaries opening','slime season 1 opening','slime season 2 opening','slime season 2 ending song','mob psycho opening 2','darling in the franxx opening','fate extra last encore opening','fate grand order absolute demonic front babylonia opening','fate apocrypha opening','one punch man opening 1','code geass opening 1 ','no game no life opening','steins gate opening 1','mha op 3','assasins pride opening 1','blue exorcist opening 1','nisekoi opening 1','plastic memories opening 1','golden time opening 1','bakemonogatari opening 1','death note opening 1','jujustsu kaisen opening','hunter x hunter opening','dr stone opening 1','fate zero opening 1','re zero opening 1','re zero opening 2','one piece opening 20 hope','gintama opening 5','love chunnibyo and other delusions opening 1','goblin slayer opening 1','a destructive god sits next to me opening','konosuba opening 1','konosuba opening 2','outbreak comapny opening','dragon ball super opening 2','akame ga kill opening 1','akame ga kill opening 2','shield hero opening 1','a certain magical index opening ','my teen romantic comedy snafu opening 1','my teen romantic comedy snafu opening 2',\"today's menu for the emiya family opening\",'danmachi opening 3','vinland saga opening 2','fire force opening 1','angel beats opening 1','fullmetal alchemist opening 1','code geass opening 5','haikyuu opening 1','oresuki opening','overlord opening 1','tonikawa opening 1','k on opening 1','k on ending']"
   ]
  },
  {
   "cell_type": "code",
   "execution_count": 53,
   "metadata": {},
   "outputs": [],
   "source": [
    "best_opening = ['rascal does not dream opening','rascal does not dream ending song','sao underworld ending','the promised neverland opening','made in abyss tomorrow ost','made in abyss opening','made in abyss stingerhead nest ost','sao opening 1','sao opening 3','sao opening 5','sao opening 6','slime diaries opening','slime season 1 opening','slime season 2 opening','slime season 2 ending song','mob psycho opening 2','darling in the franxx opening','fate extra last encore opening','fate grand order absolute demonic front babylonia opening','fate apocrypha opening','one punch man opening 1','code geass opening 1 ','no game no life opening','steins gate opening 1','mha op 3','assasins pride opening 1','blue exorcist opening 1','nisekoi opening 1','plastic memories opening 1','golden time opening 1','bakemonogatari opening 1','death note opening 1','jujustsu kaisen opening','hunter x hunter opening','dr stone opening 1','fate zero opening 1','re zero opening 1','re zero opening 2','one piece opening 20 hope','gintama opening 5','love chunnibyo and other delusions opening 1','goblin slayer opening 1','a destructive god sits next to me opening','konosuba opening 1','konosuba opening 2','outbreak comapny opening','dragon ball super opening 2','akame ga kill opening 1','akame ga kill opening 2','shield hero opening 1','a certain magical index opening ','my teen romantic comedy snafu opening 1','my teen romantic comedy snafu opening 2',\"today's menu for the emiya family opening\",'danmachi opening 3','vinland saga opening 2','fire force opening 1','angel beats opening 1','fullmetal alchemist opening 1','code geass opening 5','haikyuu opening 1','oresuki opening','overlord opening 1','tonikawa opening 1','k on opening 1','k on ending','demon slayer opening','march comes like a lion ending','march comes like a lion opening 2','rent a girlfriend opening','bad apple','anohana opening','akashic records of a bastard magic professor opening','pet girl of sakurasou opening','darwins game opening','bokuben opening 2','chihayafuru opening','fate stay night opening','fate stay night opening 2','sword art online alicization of the underworld op 2']"
   ]
  },
  {
   "cell_type": "code",
   "execution_count": null,
   "metadata": {},
   "outputs": [],
   "source": []
  },
  {
   "cell_type": "code",
   "execution_count": 55,
   "metadata": {},
   "outputs": [
    {
     "data": {
      "text/plain": [
       "80"
      ]
     },
     "execution_count": 55,
     "metadata": {},
     "output_type": "execute_result"
    }
   ],
   "source": [
    "len(best_opening)"
   ]
  },
  {
   "cell_type": "code",
   "execution_count": null,
   "metadata": {},
   "outputs": [],
   "source": []
  }
 ],
 "metadata": {
  "kernelspec": {
   "display_name": "Python 3",
   "language": "python",
   "name": "python3"
  },
  "language_info": {
   "codemirror_mode": {
    "name": "ipython",
    "version": 3
   },
   "file_extension": ".py",
   "mimetype": "text/x-python",
   "name": "python",
   "nbconvert_exporter": "python",
   "pygments_lexer": "ipython3",
   "version": "3.8.5"
  }
 },
 "nbformat": 4,
 "nbformat_minor": 1
}
